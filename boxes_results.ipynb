{
 "cells": [
  {
   "cell_type": "markdown",
   "id": "615b0b47",
   "metadata": {},
   "source": [
    "# Boxes: a benchmark for free-floating rigid bodies\n",
    "\n",
    "This test simulates free-floating rigid bodies with and without gravity and verifies that their response matches the predicted analytical solutions.\n",
    "\n",
    "The relevant physical principles are momentum conservation\n",
    "and the rotational stability of rigid bodies, sometimes referred to as the\n",
    "[tennis racket theorem](https://en.wikipedia.org/wiki/Tennis_racket_theorem)\n",
    "or the Dzhanibekov effect.\n",
    "Depending on the shape of an object, it may have unstable rotations\n",
    "about a particular axis, which causes tumbling\n",
    "([excellent video here](https://www.youtube.com/watch?v=L2o9eBl_Gzw)).\n",
    "\n",
    "Two scenarios are chosen in this benchmark to represent simple and complex trajectories.\n",
    "The \"simple\" scenario has no gravity and stable rotations,\n",
    "and the \"complex\" scenario has gravity and unstable rotations.\n",
    "\n",
    "## Simple scenario\n",
    "\n",
    "Without gravity, the linear momentum of the rigid body remains constant.\n",
    "The expected trajectory of the center of mass is to follow a straight line\n",
    "with constant velocity.\n",
    "Additionally, the initial angular velocity is aligned with a stable\n",
    "axis of rotation.\n",
    "In addition to constant angular momentum, the angular velocity should be constant,\n",
    "and the cumulative rotation angle will vary linearly with time.\n",
    "\n",
    "![Simple scenario animation with 5 boxes](img/boxes_5_simple.gif)\n",
    "\n",
    "## Complex scenario\n",
    "\n",
    "With gravity, the linear momentum changes linearly with time.\n",
    "The expected trajectory of the center of mass is parabolic.\n",
    "Additionally, the initial angular velocity is slightly mis-aligned\n",
    "from the unstable axis of rotation.\n",
    "Since no external torques act, the angular momentum  will remain constant,\n",
    "though that manifests in a tumbling angular velocity.\n",
    "\n",
    "![Complex scenario animation with 5 boxes](img/boxes_5_complex.gif)\n"
   ]
  },
  {
   "cell_type": "markdown",
   "id": "2d33ed1d",
   "metadata": {},
   "source": [
    "## Physics engine comparison\n"
   ]
  },
  {
   "cell_type": "code",
   "execution_count": null,
   "id": "6ecac817",
   "metadata": {},
   "outputs": [],
   "source": [
    "import matplotlib as mpl\n",
    "import matplotlib.pyplot as plt\n",
    "%matplotlib inline\n",
    "%config InlineBackend.figure_format = 'png'\n",
    "mpl.rcParams.update({'font.size': 16})\n",
    "import csv_dictionary\n",
    "import plot_helpers as ph"
   ]
  },
  {
   "cell_type": "code",
   "execution_count": null,
   "id": "7eb67c50",
   "metadata": {},
   "outputs": [],
   "source": [
    "boxes_dt = csv_dictionary.makeCsvDictOfArrays('test_results/BENCHMARK_boxes_dt.csv')\n",
    "print(boxes_dt.keys())\n",
    "print(set(boxes_dt['classname']))"
   ]
  },
  {
   "cell_type": "code",
   "execution_count": null,
   "id": "79dba544",
   "metadata": {},
   "outputs": [],
   "source": [
    "ph.plot3TimeDt({'classname': 'DtComplex'}\n",
    "          , csvDict=boxes_dt\n",
    "          , yname='linPositionErr_maxAbs'\n",
    "          , title='Parabolic position error'\n",
    "          )"
   ]
  },
  {
   "cell_type": "code",
   "execution_count": null,
   "id": "a53968f3",
   "metadata": {},
   "outputs": [],
   "source": [
    "ph.plot3TimeDt({'classname': 'DtComplex'}\n",
    "          , csvDict=boxes_dt\n",
    "          , yname='linVelocityErr_maxAbs'\n",
    "          , title='Linear velocity error'\n",
    "          )"
   ]
  },
  {
   "cell_type": "code",
   "execution_count": null,
   "id": "b4db1008",
   "metadata": {},
   "outputs": [],
   "source": [
    "ph.plot3TimeDt({'classname': 'DtComplex'}\n",
    "          , csvDict=boxes_dt\n",
    "          , yname='angMomentumErr_maxAbs'\n",
    "          , title='Angular momentum error'\n",
    "          , skipDart=True\n",
    "          )"
   ]
  },
  {
   "cell_type": "markdown",
   "id": "ab33ec7b",
   "metadata": {},
   "source": [
    "\n",
    "### Test: multiple boxes, nonlinear trajectory\n",
    "\n",
    "This test uses multiple rigid bodies spaced widely apart to identify the effect of on computational speed for each physics engine. Identical initial conditions are given to each box."
   ]
  },
  {
   "cell_type": "code",
   "execution_count": null,
   "id": "22c0f65b",
   "metadata": {},
   "outputs": [],
   "source": [
    "boxes_model_count = csv_dictionary.makeCsvDictOfArrays('test_results/BENCHMARK_boxes_model_count.csv')\n",
    "print(boxes_model_count.keys())\n",
    "print(set(boxes_model_count['engine']))\n",
    "print(set(boxes_model_count['linPositionErr_maxAbs']))\n",
    "print(set(boxes_model_count['collision']))\n",
    "\n",
    "csvDict = boxes_model_count\n",
    "yname = 'timeRatio'\n",
    "ylabel = 'Time ratio (real / sim)'\n",
    "ylim = (-0.40000000000000036, 8.4000000000000004)\n",
    "\n",
    "ph.plotEnginesModelCount({'classname': 'Boxes'}\n",
    "                  , csvDict=csvDict\n",
    "                  , yname=yname\n",
    "                  , ylabel=ylabel\n",
    "                  , title='Computational time with multiple boxes'\n",
    "                )\n",
    "\n",
    "ph.plotEnginesModelCount({'classname': 'Boxes', 'collision': 1.0}\n",
    "                  , csvDict=csvDict\n",
    "                  , yname=yname\n",
    "                  , ylabel=ylabel\n",
    "                  , title='Computational time with collision-checking'\n",
    "                   )\n",
    "\n",
    "ph.plotEnginesModelCount({'classname': 'Boxes', 'collision': 0.0}\n",
    "                  , csvDict=csvDict\n",
    "                  , yname=yname\n",
    "                  , ylabel=ylabel\n",
    "                  , ylim=ylim\n",
    "                  , title='Computational time without collision-checking'\n",
    "                   )"
   ]
  }
 ],
 "metadata": {
  "language_info": {
   "name": "python"
  }
 },
 "nbformat": 4,
 "nbformat_minor": 5
}
