{
 "cells": [
  {
   "cell_type": "markdown",
   "id": "b648727d",
   "metadata": {},
   "source": [
    "# Boxes: a benchmark for free-floating rigid bodies\n",
    "\n",
    "This test simulates free-floating rigid bodies with and without gravity and verifies that their response matches the predicted analytical solutions.\n",
    "\n",
    "The relevant physical principles are momentum conservation\n",
    "and the rotational stability of rigid bodies, sometimes referred to as the\n",
    "[tennis racket theorem](https://en.wikipedia.org/wiki/Tennis_racket_theorem)\n",
    "or the Dzhanibekov effect.\n",
    "Depending on the shape of an object, it may have unstable rotations\n",
    "about a particular axis, which causes tumbling\n",
    "([excellent video here](https://www.youtube.com/watch?v=L2o9eBl_Gzw)).\n",
    "\n",
    "Two scenarios are chosen in this benchmark to represent simple and complex trajectories.\n",
    "The \"simple\" scenario has no gravity and stable rotations,\n",
    "and the \"complex\" scenario has gravity and unstable rotations.\n",
    "\n",
    "## Simple scenario\n",
    "\n",
    "Without gravity, the linear momentum of the rigid body remains constant.\n",
    "The expected trajectory of the center of mass is to follow a straight line\n",
    "with constant velocity.\n",
    "Additionally, the initial angular velocity is aligned with a stable\n",
    "axis of rotation.\n",
    "In addition to constant angular momentum, the angular velocity should be constant,\n",
    "and the cumulative rotation angle will vary linearly with time.\n",
    "\n",
    "![Simple scenario animation with 5 boxes](img/boxes_5_simple.gif)\n",
    "\n",
    "## Complex scenario\n",
    "\n",
    "With gravity, the linear momentum changes linearly with time.\n",
    "The expected trajectory of the center of mass is parabolic.\n",
    "Additionally, the initial angular velocity is slightly mis-aligned\n",
    "from the unstable axis of rotation.\n",
    "Since no external torques act, the angular momentum  will remain constant,\n",
    "though that manifests in a tumbling angular velocity.\n",
    "\n",
    "![Complex scenario animation with 5 boxes](img/boxes_5_complex.gif)\n"
   ]
  },
  {
   "cell_type": "markdown",
   "id": "d9b2446b",
   "metadata": {},
   "source": [
    "## Definition of coordinate frames and variables\n",
    "\n",
    "Consider an inertial frame $O$ and a rigid body with coordinate frame $c$ attached at the center of mass:\n",
    "\n",
    "* The position of the center of gravity (cg) in $O$ is given by $\\textbf{c}$.\n",
    "* The orientation of $c$ with respect to $O$ is given by the quaternion $\\textbf{q}$.\n",
    "* A rotation matrix from $O$ to $c$: $\\textbf{R}(\\textbf{q})$\n",
    "* Angular velocity in frame $c$: $\\boldsymbol{\\omega}$\n",
    "\n",
    "The rigid body has the following inertial parameters:\n",
    "\n",
    "* mass $m$\n",
    "* inertia matrix $\\textbf{I}$ expressed in $c$\n",
    "\n",
    "With uniform gravity vector $\\textbf{g}$, momentum and energy of the rigid body are defined as follows:\n",
    "\n",
    "* Linear momentum in frame $O$: $\\textbf{p}(t) = m \\dot{\\textbf{c}}(t)$\n",
    "* Angular momentum with respect to $c$, expressed in $O$: $\\textbf{L}(t) = \\textbf{R}^T(\\textbf{q}(t))\\textbf{I}\\boldsymbol{\\omega}(t)$\n",
    "* Kinetic energy:\n",
    "$T(t) = \\frac{1}{2} m \\dot{\\textbf{c}}^T(t) \\dot{\\textbf{c}}(t) +\n",
    "     \\frac{1}{2} \\boldsymbol{\\omega}^T(t) \\textbf{I} \\boldsymbol{\\omega}(t)$\n",
    "* Potential energy:\n",
    "$V(t) = -m \\textbf{g}^T \\textbf{c}(t)$\n",
    "* Total energy: $E(t) = T(t) + V(t)$\n",
    "\n",
    "\n",
    "## Initial conditions\n",
    "\n",
    "For time $t$, denote the initial conditions:\n",
    "\n",
    "* $\\textbf{c}(t=t_0) = \\textbf{c}_0$,\n",
    "* $\\dot{\\textbf{c}}(t=t_0) = \\dot{\\textbf{c}}_0$,\n",
    "* $\\textbf{q}(t=t_0) = \\textbf{q}_0$,\n",
    "* $\\boldsymbol{\\omega}(t=t_0) = \\boldsymbol{\\omega}_0$,\n",
    "* $\\textbf{p}(t=t_0) = \\textbf{p}_0$,\n",
    "* $\\textbf{L}(t=t_0) = \\textbf{L}_0$,\n",
    "* $T(t=t_0) = T_0$,\n",
    "* $V(t=t_0) = V_0$,\n",
    "* $E(t=t_0) = E_0$."
   ]
  },
  {
   "cell_type": "markdown",
   "id": "af8b8fbc",
   "metadata": {},
   "source": [
    "## Inertial parameters for box\n",
    "\n",
    "These tests use a box of uniform density with relative dimensions 1x4x9\n",
    "in local coordinate frame $xyz$.\n",
    "\n",
    "![image](img/box_149.png)\n",
    "\n",
    "The inertial properties are computed below:"
   ]
  },
  {
   "cell_type": "code",
   "execution_count": 1,
   "id": "963149b1",
   "metadata": {
    "collapsed": false,
    "jupyter": {
     "outputs_hidden": false
    }
   },
   "outputs": [],
   "source": [
    "# Python setup\n",
    "import numpy as np\n",
    "import matplotlib as mpl\n",
    "import matplotlib.pyplot as plt\n",
    "%matplotlib inline\n",
    "%config InlineBackend.figure_format = 'png'\n",
    "mpl.rcParams.update({'font.size': 16})\n",
    "import plot_helpers"
   ]
  },
  {
   "cell_type": "code",
   "execution_count": 2,
   "id": "3c94d5eb",
   "metadata": {
    "collapsed": false,
    "jupyter": {
     "outputs_hidden": false
    }
   },
   "outputs": [
    {
     "name": "stdout",
     "output_type": "stream",
     "text": [
      "[[ 0.80833333  0.          0.        ]\n",
      " [ 0.          0.68333333  0.        ]\n",
      " [ 0.          0.          0.14166667]]\n"
     ]
    }
   ],
   "source": [
    "# Use inertial parameters for uniform box of 10 kg with dimensions 0.1 x 0.4 x 0.9 (m^3)\n",
    "m = 10.0\n",
    "box_x = 0.1\n",
    "box_y = 0.4\n",
    "box_z = 0.9\n",
    "Ixx = m/12.0 * (box_y**2 + box_z**2)\n",
    "Iyy = m/12.0 * (box_z**2 + box_x**2)\n",
    "Izz = m/12.0 * (box_x**2 + box_y**2)\n",
    "I = np.diag([Ixx, Iyy, Izz])\n",
    "print I"
   ]
  },
  {
   "cell_type": "markdown",
   "id": "23ca935b",
   "metadata": {},
   "source": [
    "The box's $x$ axis has the largest inertia, and the $z$ axis has the smallest inertia.\n",
    "The $y$ axis is thus the unstable rotational axis.\n",
    "\n",
    "## Analytical solution\n",
    "\n",
    "With gravity as the only external force, Newton 2nd law implies that the time derivative of linear momentum is equal to the gravitational force:\n",
    "\n",
    " * $\\dot{\\textbf{p}}(t) = m \\textbf{g}$\n",
    "\n",
    "The center of mass acceleration is constant\n",
    "\n",
    " * $\\ddot{\\textbf{c}}(t) = \\textbf{g}$,\n",
    "\n",
    "the velocity is linear in time\n",
    "\n",
    " * $\\dot{\\textbf{c}}(t) = \\dot{\\textbf{c}}_0 + \\textbf{g} (t-t_0)$,\n",
    "\n",
    "and the position is parabolic in time\n",
    "\n",
    " * $\\textbf{c}(t) = \\textbf{c}_0 + \\dot{\\textbf{c}}_0(t-t_0) + \\frac{1}{2} \\textbf{g} (t-t_0)^2$.\n",
    "\n",
    "With no external torques acting, the angular momentum is conserved:\n",
    "\n",
    " * $\\textbf{L}(t) = \\textbf{L}_0$,\n",
    " * $\\textbf{R}^T(\\textbf{q(t)})\\textbf{I}\\boldsymbol{\\omega}(t) =\n",
    "    \\textbf{R}^T(\\textbf{q}_0)\\textbf{I}\\boldsymbol{\\omega}_0$\n",
    "\n",
    "This implies that the angular momentum vector will be constant in a fixed frame.\n",
    "\n",
    "Additionally, gravity is a conservative force, so the system is conservative and energy is constant.\n",
    "\n",
    "* $E(t) = E_0$\n",
    "\n",
    "### Analytical solution: simple scenario\n",
    "\n",
    "There are some simplifications of the analytical solution for the simple scenario.\n",
    "Since gravity is not acting ($\\textbf{g} = \\textbf{0}$),\n",
    "the linear velocity reduces to a constant and the position to a linear function of time.\n",
    "The potential energy is zero, so energy conservation implies that\n",
    "the kinetic energy is constant:\n",
    "\n",
    "* $T(t) = T_0$\n",
    "\n",
    "The specific initial conditions are given as follows:\n",
    "\n",
    "* $\\textbf{c}_0 = [0, 0, 0]^T$\n",
    "* $\\textbf{q}_0$ is identity\n",
    "* $\\dot{\\textbf{c}}_0 = [-0.9, 0.4, 0.1]^T$\n",
    "* $\\boldsymbol{\\omega}_0 = [0.5, 0, 0]^T$\n",
    "\n",
    "Note that the angular velocity is aligned with the $x$ axis, which has the largest moment of inertia and thus rotational stability."
   ]
  },
  {
   "cell_type": "markdown",
   "id": "8ad1a8ad",
   "metadata": {},
   "source": [
    "The initial angular momentum and energy are computed as:"
   ]
  },
  {
   "cell_type": "code",
   "execution_count": 3,
   "id": "3dfb5ffc",
   "metadata": {
    "collapsed": false,
    "jupyter": {
     "outputs_hidden": false
    }
   },
   "outputs": [
    {
     "name": "stdout",
     "output_type": "stream",
     "text": [
      "[ 0.40416667  0.          0.        ]\n",
      "5.00104166667\n"
     ]
    }
   ],
   "source": [
    "c_0 = np.array([0, 0, 0])\n",
    "cdot_0 = np.array([-0.9, 0.4, 0.1])\n",
    "omega_0 = np.array([0.5, 0, 0])\n",
    "\n",
    "# initial angular momentum\n",
    "L_0 = I.dot(omega_0)\n",
    "print(L_0)\n",
    "\n",
    "# initial energy\n",
    "T_0 = 0.5*m * cdot_0.dot(cdot_0) + 0.5 * omega_0.dot(I.dot(omega_0))\n",
    "print(T_0)"
   ]
  },
  {
   "cell_type": "markdown",
   "id": "caa1868e",
   "metadata": {},
   "source": [
    "The scenario is simulated over of a time interval of 10 seconds."
   ]
  },
  {
   "cell_type": "code",
   "execution_count": 4,
   "id": "97c59343",
   "metadata": {
    "collapsed": false,
    "jupyter": {
     "outputs_hidden": false
    }
   },
   "outputs": [],
   "source": [
    "# center of mass position in simple scenario\n",
    "N = 100\n",
    "time = np.linspace(0, 10, N)\n",
    "c_t = np.zeros((N, 3))\n",
    "for i,t in enumerate(time):\n",
    "    c_t[i] = c_0 + cdot_0 * t"
   ]
  },
  {
   "cell_type": "code",
   "execution_count": 5,
   "id": "2a084fc6",
   "metadata": {
    "collapsed": false,
    "jupyter": {
     "outputs_hidden": false
    }
   },
   "outputs": [
    {
     "data": {
      "image/png": "[encoded data removed]",
      "text/plain": [
       "<matplotlib.figure.Figure at 0x108a105d0>"
      ]
     },
     "metadata": {},
     "output_type": "display_data"
    }
   ],
   "source": [
    "plot_helpers.plotTimePosition3(time, c_t)\n",
    "plt.title('Simple: center of mass position');"
   ]
  },
  {
   "cell_type": "markdown",
   "id": "642f9942",
   "metadata": {},
   "source": [
    "### Analytical solution: complex scenario\n",
    "\n",
    "The gravity and specific initial conditions for the complex scenario are given as follows:\n",
    "\n",
    "* $\\textbf{g} = [0, 0, -9.8]^T$\n",
    "* $\\textbf{c}_0 = [0, 0, 0]^T$\n",
    "* $\\textbf{q}_0$ is identity\n",
    "* $\\dot{\\textbf{c}}_0 = [-2.0, 2.0, 8.0]^T$\n",
    "* $\\boldsymbol{\\omega}_0 = [0.1, 5.0, 0.1]^T$\n",
    "\n",
    "Note that the angular velocity is slightly mis-aligned from the unstable $y$ axis, which has neither the largest nor smallest moment of inertia value and thus rotational instability."
   ]
  },
  {
   "cell_type": "code",
   "execution_count": 6,
   "id": "cca91e9b",
   "metadata": {
    "collapsed": false,
    "jupyter": {
     "outputs_hidden": false
    }
   },
   "outputs": [
    {
     "name": "stdout",
     "output_type": "stream",
     "text": [
      "[ 0.08083333  3.41666667  0.01416667]\n",
      "368.546416667\n"
     ]
    }
   ],
   "source": [
    "C_0 = np.array([0, 0, 0])\n",
    "Cdot_0 = np.array([-2.0, 2.0, 8.0])\n",
    "Omega_0 = np.array([0.1, 5.0, 0.1])\n",
    "g = np.array([0, 0, -9.8])\n",
    "\n",
    "# initial angular momentum\n",
    "L_0 = I.dot(Omega_0)\n",
    "print(L_0)\n",
    "\n",
    "# initial energy\n",
    "T_0 = 0.5*m * Cdot_0.dot(Cdot_0) + 0.5 * Omega_0.dot(I.dot(Omega_0))\n",
    "V_0 = - m * g.dot(C_0)\n",
    "E_0 = T_0 + V_0\n",
    "print(E_0)\n",
    "\n",
    "# center of mass position in simple scenario\n",
    "N = 100\n",
    "time = np.linspace(0, 10, N)\n",
    "C_t = np.zeros((N, 3))\n",
    "for i,t in enumerate(time):\n",
    "    C_t[i] = C_0 + Cdot_0 * t + 0.5 * g * t*t"
   ]
  },
  {
   "cell_type": "code",
   "execution_count": 7,
   "id": "96209838",
   "metadata": {
    "collapsed": false,
    "jupyter": {
     "outputs_hidden": false
    },
    "scrolled": true
   },
   "outputs": [
    {
     "data": {
      "image/png": "[encoded data removed]",
      "text/plain": [
       "<matplotlib.figure.Figure at 0x10a53b950>"
      ]
     },
     "metadata": {},
     "output_type": "display_data"
    }
   ],
   "source": [
    "plot_helpers.plotTimePosition3(time, C_t)\n",
    "plt.title('Complex: center of mass position');"
   ]
  },
  {
   "cell_type": "markdown",
   "id": "75dff6bc-3040-41a6-bbde-9932478aa8f4",
   "metadata": {},
   "source": [
    "## Inputs, Outputs, and Metrics\n",
    "\n",
    "### Inputs\n",
    "This benchmark generates tests of different parameters based on these inputs:\n",
    "\n",
    "Parameter                    | Type    | Description\n",
    "---------------------------- | ------- | -----------\n",
    "Physics engine               | string  | `ode`, `bullet`, `simbody`, or `dart`\n",
    "Time step in simulation loop | double  | units of seconds\n",
    "Model count                  | integer | the number of boxes to spawn\n",
    "Use collision or not         | Boolean |\n",
    "Simple or Complex scenario   | Boolean |\n",
    "\n",
    "### Metrics\n",
    "These errors are measured and saved:\n",
    "\n",
    "Metric                 | Type     | Description\n",
    "-----------------------| -------- | -----------\n",
    "Linear position error  | 3-vector | units of meters\n",
    "Linear velocity error  | 3-vector | units of meters / second\n",
    "Angular position error | 3-vector | units of radians\n",
    "Angular velocity error | 3-vector | units of radians / second\n",
    "Energy error           | double   | units of J\n",
    "\n",
    "### Additional outputs\n",
    "In addition, computation time is measured, by saving these quantities as outputs:\n",
    "\n",
    "Metric                 | Type   | Description\n",
    "-----------------------| ------ | -----------\n",
    "Duration in wall time  | double | units of seconds\n",
    "Duration in sim time   | double | units of seconds\n",
    "Duration ratio         | double | wall duration divided by sim duration"
   ]
  },
  {
   "cell_type": "code",
   "execution_count": null,
   "id": "62960dbc-29b8-4d85-a92d-74075e8c9791",
   "metadata": {},
   "outputs": [],
   "source": []
  }
 ],
 "metadata": {
  "kernelspec": {
   "display_name": "Python 3 (ipykernel)",
   "language": "python",
   "name": "python3"
  },
  "language_info": {
   "codemirror_mode": {
    "name": "ipython",
    "version": 3
   },
   "file_extension": ".py",
   "mimetype": "text/x-python",
   "name": "python",
   "nbconvert_exporter": "python",
   "pygments_lexer": "ipython3",
   "version": "3.10.12"
  }
 },
 "nbformat": 4,
 "nbformat_minor": 5
}
